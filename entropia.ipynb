{
  "nbformat": 4,
  "nbformat_minor": 0,
  "metadata": {
    "colab": {
      "provenance": [],
      "authorship_tag": "ABX9TyOTQNrOOpHxnO9cLcr8q+pY",
      "include_colab_link": true
    },
    "kernelspec": {
      "name": "python3",
      "display_name": "Python 3"
    },
    "language_info": {
      "name": "python"
    }
  },
  "cells": [
    {
      "cell_type": "markdown",
      "metadata": {
        "id": "view-in-github",
        "colab_type": "text"
      },
      "source": [
        "<a href=\"https://colab.research.google.com/github/Jael-Lima/Calculo-Entropia/blob/main/entropia.ipynb\" target=\"_parent\"><img src=\"https://colab.research.google.com/assets/colab-badge.svg\" alt=\"Open In Colab\"/></a>"
      ]
    },
    {
      "cell_type": "code",
      "execution_count": null,
      "metadata": {
        "id": "6paquDt3heSp"
      },
      "outputs": [],
      "source": [
        "import pandas as pd\n",
        "import numpy as np\n"
      ]
    },
    {
      "cell_type": "code",
      "source": [
        "url = 'https://raw.githubusercontent.com/Jael-Lima/Calculo-Entropia/852f587d1f310eb1d50af2f8e277450943a3ab81/top50.csv'\n",
        "df = pd.read_csv(url, encoding='ISO-8859-1')\n",
        "df.head()\n"
      ],
      "metadata": {
        "colab": {
          "base_uri": "https://localhost:8080/",
          "height": 417
        },
        "id": "60LvHQHjiptQ",
        "outputId": "03203412-12c8-4cdc-bad9-19a337fe612e"
      },
      "execution_count": null,
      "outputs": [
        {
          "output_type": "execute_result",
          "data": {
            "text/plain": [
              "   Unnamed: 0                       Track.Name    Artist.Name           Genre  \\\n",
              "0           1                         Señorita   Shawn Mendes    canadian pop   \n",
              "1           2                            China       Anuel AA  reggaeton flow   \n",
              "2           3    boyfriend (with Social House)  Ariana Grande       dance pop   \n",
              "3           4  Beautiful People (feat. Khalid)     Ed Sheeran             pop   \n",
              "4           5      Goodbyes (Feat. Young Thug)    Post Malone         dfw rap   \n",
              "\n",
              "   Beats.Per.Minute  Energy  Danceability  Loudness..dB..  Liveness  Valence.  \\\n",
              "0               117      55            76              -6         8        75   \n",
              "1               105      81            79              -4         8        61   \n",
              "2               190      80            40              -4        16        70   \n",
              "3                93      65            64              -8         8        55   \n",
              "4               150      65            58              -4        11        18   \n",
              "\n",
              "   Length.  Acousticness..  Speechiness.  Popularity  \n",
              "0      191               4             3          79  \n",
              "1      302               8             9          92  \n",
              "2      186              12            46          85  \n",
              "3      198              12            19          86  \n",
              "4      175              45             7          94  "
            ],
            "text/html": [
              "\n",
              "  <div id=\"df-6fe245d3-96cb-4f17-903a-3ff0bed9b691\" class=\"colab-df-container\">\n",
              "    <div>\n",
              "<style scoped>\n",
              "    .dataframe tbody tr th:only-of-type {\n",
              "        vertical-align: middle;\n",
              "    }\n",
              "\n",
              "    .dataframe tbody tr th {\n",
              "        vertical-align: top;\n",
              "    }\n",
              "\n",
              "    .dataframe thead th {\n",
              "        text-align: right;\n",
              "    }\n",
              "</style>\n",
              "<table border=\"1\" class=\"dataframe\">\n",
              "  <thead>\n",
              "    <tr style=\"text-align: right;\">\n",
              "      <th></th>\n",
              "      <th>Unnamed: 0</th>\n",
              "      <th>Track.Name</th>\n",
              "      <th>Artist.Name</th>\n",
              "      <th>Genre</th>\n",
              "      <th>Beats.Per.Minute</th>\n",
              "      <th>Energy</th>\n",
              "      <th>Danceability</th>\n",
              "      <th>Loudness..dB..</th>\n",
              "      <th>Liveness</th>\n",
              "      <th>Valence.</th>\n",
              "      <th>Length.</th>\n",
              "      <th>Acousticness..</th>\n",
              "      <th>Speechiness.</th>\n",
              "      <th>Popularity</th>\n",
              "    </tr>\n",
              "  </thead>\n",
              "  <tbody>\n",
              "    <tr>\n",
              "      <th>0</th>\n",
              "      <td>1</td>\n",
              "      <td>Señorita</td>\n",
              "      <td>Shawn Mendes</td>\n",
              "      <td>canadian pop</td>\n",
              "      <td>117</td>\n",
              "      <td>55</td>\n",
              "      <td>76</td>\n",
              "      <td>-6</td>\n",
              "      <td>8</td>\n",
              "      <td>75</td>\n",
              "      <td>191</td>\n",
              "      <td>4</td>\n",
              "      <td>3</td>\n",
              "      <td>79</td>\n",
              "    </tr>\n",
              "    <tr>\n",
              "      <th>1</th>\n",
              "      <td>2</td>\n",
              "      <td>China</td>\n",
              "      <td>Anuel AA</td>\n",
              "      <td>reggaeton flow</td>\n",
              "      <td>105</td>\n",
              "      <td>81</td>\n",
              "      <td>79</td>\n",
              "      <td>-4</td>\n",
              "      <td>8</td>\n",
              "      <td>61</td>\n",
              "      <td>302</td>\n",
              "      <td>8</td>\n",
              "      <td>9</td>\n",
              "      <td>92</td>\n",
              "    </tr>\n",
              "    <tr>\n",
              "      <th>2</th>\n",
              "      <td>3</td>\n",
              "      <td>boyfriend (with Social House)</td>\n",
              "      <td>Ariana Grande</td>\n",
              "      <td>dance pop</td>\n",
              "      <td>190</td>\n",
              "      <td>80</td>\n",
              "      <td>40</td>\n",
              "      <td>-4</td>\n",
              "      <td>16</td>\n",
              "      <td>70</td>\n",
              "      <td>186</td>\n",
              "      <td>12</td>\n",
              "      <td>46</td>\n",
              "      <td>85</td>\n",
              "    </tr>\n",
              "    <tr>\n",
              "      <th>3</th>\n",
              "      <td>4</td>\n",
              "      <td>Beautiful People (feat. Khalid)</td>\n",
              "      <td>Ed Sheeran</td>\n",
              "      <td>pop</td>\n",
              "      <td>93</td>\n",
              "      <td>65</td>\n",
              "      <td>64</td>\n",
              "      <td>-8</td>\n",
              "      <td>8</td>\n",
              "      <td>55</td>\n",
              "      <td>198</td>\n",
              "      <td>12</td>\n",
              "      <td>19</td>\n",
              "      <td>86</td>\n",
              "    </tr>\n",
              "    <tr>\n",
              "      <th>4</th>\n",
              "      <td>5</td>\n",
              "      <td>Goodbyes (Feat. Young Thug)</td>\n",
              "      <td>Post Malone</td>\n",
              "      <td>dfw rap</td>\n",
              "      <td>150</td>\n",
              "      <td>65</td>\n",
              "      <td>58</td>\n",
              "      <td>-4</td>\n",
              "      <td>11</td>\n",
              "      <td>18</td>\n",
              "      <td>175</td>\n",
              "      <td>45</td>\n",
              "      <td>7</td>\n",
              "      <td>94</td>\n",
              "    </tr>\n",
              "  </tbody>\n",
              "</table>\n",
              "</div>\n",
              "    <div class=\"colab-df-buttons\">\n",
              "\n",
              "  <div class=\"colab-df-container\">\n",
              "    <button class=\"colab-df-convert\" onclick=\"convertToInteractive('df-6fe245d3-96cb-4f17-903a-3ff0bed9b691')\"\n",
              "            title=\"Convert this dataframe to an interactive table.\"\n",
              "            style=\"display:none;\">\n",
              "\n",
              "  <svg xmlns=\"http://www.w3.org/2000/svg\" height=\"24px\" viewBox=\"0 -960 960 960\">\n",
              "    <path d=\"M120-120v-720h720v720H120Zm60-500h600v-160H180v160Zm220 220h160v-160H400v160Zm0 220h160v-160H400v160ZM180-400h160v-160H180v160Zm440 0h160v-160H620v160ZM180-180h160v-160H180v160Zm440 0h160v-160H620v160Z\"/>\n",
              "  </svg>\n",
              "    </button>\n",
              "\n",
              "  <style>\n",
              "    .colab-df-container {\n",
              "      display:flex;\n",
              "      gap: 12px;\n",
              "    }\n",
              "\n",
              "    .colab-df-convert {\n",
              "      background-color: #E8F0FE;\n",
              "      border: none;\n",
              "      border-radius: 50%;\n",
              "      cursor: pointer;\n",
              "      display: none;\n",
              "      fill: #1967D2;\n",
              "      height: 32px;\n",
              "      padding: 0 0 0 0;\n",
              "      width: 32px;\n",
              "    }\n",
              "\n",
              "    .colab-df-convert:hover {\n",
              "      background-color: #E2EBFA;\n",
              "      box-shadow: 0px 1px 2px rgba(60, 64, 67, 0.3), 0px 1px 3px 1px rgba(60, 64, 67, 0.15);\n",
              "      fill: #174EA6;\n",
              "    }\n",
              "\n",
              "    .colab-df-buttons div {\n",
              "      margin-bottom: 4px;\n",
              "    }\n",
              "\n",
              "    [theme=dark] .colab-df-convert {\n",
              "      background-color: #3B4455;\n",
              "      fill: #D2E3FC;\n",
              "    }\n",
              "\n",
              "    [theme=dark] .colab-df-convert:hover {\n",
              "      background-color: #434B5C;\n",
              "      box-shadow: 0px 1px 3px 1px rgba(0, 0, 0, 0.15);\n",
              "      filter: drop-shadow(0px 1px 2px rgba(0, 0, 0, 0.3));\n",
              "      fill: #FFFFFF;\n",
              "    }\n",
              "  </style>\n",
              "\n",
              "    <script>\n",
              "      const buttonEl =\n",
              "        document.querySelector('#df-6fe245d3-96cb-4f17-903a-3ff0bed9b691 button.colab-df-convert');\n",
              "      buttonEl.style.display =\n",
              "        google.colab.kernel.accessAllowed ? 'block' : 'none';\n",
              "\n",
              "      async function convertToInteractive(key) {\n",
              "        const element = document.querySelector('#df-6fe245d3-96cb-4f17-903a-3ff0bed9b691');\n",
              "        const dataTable =\n",
              "          await google.colab.kernel.invokeFunction('convertToInteractive',\n",
              "                                                    [key], {});\n",
              "        if (!dataTable) return;\n",
              "\n",
              "        const docLinkHtml = 'Like what you see? Visit the ' +\n",
              "          '<a target=\"_blank\" href=https://colab.research.google.com/notebooks/data_table.ipynb>data table notebook</a>'\n",
              "          + ' to learn more about interactive tables.';\n",
              "        element.innerHTML = '';\n",
              "        dataTable['output_type'] = 'display_data';\n",
              "        await google.colab.output.renderOutput(dataTable, element);\n",
              "        const docLink = document.createElement('div');\n",
              "        docLink.innerHTML = docLinkHtml;\n",
              "        element.appendChild(docLink);\n",
              "      }\n",
              "    </script>\n",
              "  </div>\n",
              "\n",
              "\n",
              "<div id=\"df-4c1ae694-f5b3-45a6-8a18-4c6ceb302449\">\n",
              "  <button class=\"colab-df-quickchart\" onclick=\"quickchart('df-4c1ae694-f5b3-45a6-8a18-4c6ceb302449')\"\n",
              "            title=\"Suggest charts\"\n",
              "            style=\"display:none;\">\n",
              "\n",
              "<svg xmlns=\"http://www.w3.org/2000/svg\" height=\"24px\"viewBox=\"0 0 24 24\"\n",
              "     width=\"24px\">\n",
              "    <g>\n",
              "        <path d=\"M19 3H5c-1.1 0-2 .9-2 2v14c0 1.1.9 2 2 2h14c1.1 0 2-.9 2-2V5c0-1.1-.9-2-2-2zM9 17H7v-7h2v7zm4 0h-2V7h2v10zm4 0h-2v-4h2v4z\"/>\n",
              "    </g>\n",
              "</svg>\n",
              "  </button>\n",
              "\n",
              "<style>\n",
              "  .colab-df-quickchart {\n",
              "      --bg-color: #E8F0FE;\n",
              "      --fill-color: #1967D2;\n",
              "      --hover-bg-color: #E2EBFA;\n",
              "      --hover-fill-color: #174EA6;\n",
              "      --disabled-fill-color: #AAA;\n",
              "      --disabled-bg-color: #DDD;\n",
              "  }\n",
              "\n",
              "  [theme=dark] .colab-df-quickchart {\n",
              "      --bg-color: #3B4455;\n",
              "      --fill-color: #D2E3FC;\n",
              "      --hover-bg-color: #434B5C;\n",
              "      --hover-fill-color: #FFFFFF;\n",
              "      --disabled-bg-color: #3B4455;\n",
              "      --disabled-fill-color: #666;\n",
              "  }\n",
              "\n",
              "  .colab-df-quickchart {\n",
              "    background-color: var(--bg-color);\n",
              "    border: none;\n",
              "    border-radius: 50%;\n",
              "    cursor: pointer;\n",
              "    display: none;\n",
              "    fill: var(--fill-color);\n",
              "    height: 32px;\n",
              "    padding: 0;\n",
              "    width: 32px;\n",
              "  }\n",
              "\n",
              "  .colab-df-quickchart:hover {\n",
              "    background-color: var(--hover-bg-color);\n",
              "    box-shadow: 0 1px 2px rgba(60, 64, 67, 0.3), 0 1px 3px 1px rgba(60, 64, 67, 0.15);\n",
              "    fill: var(--button-hover-fill-color);\n",
              "  }\n",
              "\n",
              "  .colab-df-quickchart-complete:disabled,\n",
              "  .colab-df-quickchart-complete:disabled:hover {\n",
              "    background-color: var(--disabled-bg-color);\n",
              "    fill: var(--disabled-fill-color);\n",
              "    box-shadow: none;\n",
              "  }\n",
              "\n",
              "  .colab-df-spinner {\n",
              "    border: 2px solid var(--fill-color);\n",
              "    border-color: transparent;\n",
              "    border-bottom-color: var(--fill-color);\n",
              "    animation:\n",
              "      spin 1s steps(1) infinite;\n",
              "  }\n",
              "\n",
              "  @keyframes spin {\n",
              "    0% {\n",
              "      border-color: transparent;\n",
              "      border-bottom-color: var(--fill-color);\n",
              "      border-left-color: var(--fill-color);\n",
              "    }\n",
              "    20% {\n",
              "      border-color: transparent;\n",
              "      border-left-color: var(--fill-color);\n",
              "      border-top-color: var(--fill-color);\n",
              "    }\n",
              "    30% {\n",
              "      border-color: transparent;\n",
              "      border-left-color: var(--fill-color);\n",
              "      border-top-color: var(--fill-color);\n",
              "      border-right-color: var(--fill-color);\n",
              "    }\n",
              "    40% {\n",
              "      border-color: transparent;\n",
              "      border-right-color: var(--fill-color);\n",
              "      border-top-color: var(--fill-color);\n",
              "    }\n",
              "    60% {\n",
              "      border-color: transparent;\n",
              "      border-right-color: var(--fill-color);\n",
              "    }\n",
              "    80% {\n",
              "      border-color: transparent;\n",
              "      border-right-color: var(--fill-color);\n",
              "      border-bottom-color: var(--fill-color);\n",
              "    }\n",
              "    90% {\n",
              "      border-color: transparent;\n",
              "      border-bottom-color: var(--fill-color);\n",
              "    }\n",
              "  }\n",
              "</style>\n",
              "\n",
              "  <script>\n",
              "    async function quickchart(key) {\n",
              "      const quickchartButtonEl =\n",
              "        document.querySelector('#' + key + ' button');\n",
              "      quickchartButtonEl.disabled = true;  // To prevent multiple clicks.\n",
              "      quickchartButtonEl.classList.add('colab-df-spinner');\n",
              "      try {\n",
              "        const charts = await google.colab.kernel.invokeFunction(\n",
              "            'suggestCharts', [key], {});\n",
              "      } catch (error) {\n",
              "        console.error('Error during call to suggestCharts:', error);\n",
              "      }\n",
              "      quickchartButtonEl.classList.remove('colab-df-spinner');\n",
              "      quickchartButtonEl.classList.add('colab-df-quickchart-complete');\n",
              "    }\n",
              "    (() => {\n",
              "      let quickchartButtonEl =\n",
              "        document.querySelector('#df-4c1ae694-f5b3-45a6-8a18-4c6ceb302449 button');\n",
              "      quickchartButtonEl.style.display =\n",
              "        google.colab.kernel.accessAllowed ? 'block' : 'none';\n",
              "    })();\n",
              "  </script>\n",
              "</div>\n",
              "\n",
              "    </div>\n",
              "  </div>\n"
            ],
            "application/vnd.google.colaboratory.intrinsic+json": {
              "type": "dataframe",
              "variable_name": "df",
              "summary": "{\n  \"name\": \"df\",\n  \"rows\": 50,\n  \"fields\": [\n    {\n      \"column\": \"Unnamed: 0\",\n      \"properties\": {\n        \"dtype\": \"number\",\n        \"std\": 14,\n        \"min\": 1,\n        \"max\": 50,\n        \"num_unique_values\": 50,\n        \"samples\": [\n          14,\n          40,\n          31\n        ],\n        \"semantic_type\": \"\",\n        \"description\": \"\"\n      }\n    },\n    {\n      \"column\": \"Track.Name\",\n      \"properties\": {\n        \"dtype\": \"string\",\n        \"num_unique_values\": 50,\n        \"samples\": [\n          \"Otro Trago - Remix\",\n          \"fuck, i'm lonely (with Anne-Marie) - from \\u009313 Reasons Why: Season 3\\u0094\",\n          \"Takeaway\"\n        ],\n        \"semantic_type\": \"\",\n        \"description\": \"\"\n      }\n    },\n    {\n      \"column\": \"Artist.Name\",\n      \"properties\": {\n        \"dtype\": \"string\",\n        \"num_unique_values\": 38,\n        \"samples\": [\n          \"Lady Gaga\",\n          \"Marshmello\",\n          \"Post Malone\"\n        ],\n        \"semantic_type\": \"\",\n        \"description\": \"\"\n      }\n    },\n    {\n      \"column\": \"Genre\",\n      \"properties\": {\n        \"dtype\": \"category\",\n        \"num_unique_values\": 21,\n        \"samples\": [\n          \"canadian pop\",\n          \"big room\",\n          \"edm\"\n        ],\n        \"semantic_type\": \"\",\n        \"description\": \"\"\n      }\n    },\n    {\n      \"column\": \"Beats.Per.Minute\",\n      \"properties\": {\n        \"dtype\": \"number\",\n        \"std\": 30,\n        \"min\": 85,\n        \"max\": 190,\n        \"num_unique_values\": 31,\n        \"samples\": [\n          138,\n          130,\n          140\n        ],\n        \"semantic_type\": \"\",\n        \"description\": \"\"\n      }\n    },\n    {\n      \"column\": \"Energy\",\n      \"properties\": {\n        \"dtype\": \"number\",\n        \"std\": 14,\n        \"min\": 32,\n        \"max\": 88,\n        \"num_unique_values\": 31,\n        \"samples\": [\n          56,\n          74,\n          88\n        ],\n        \"semantic_type\": \"\",\n        \"description\": \"\"\n      }\n    },\n    {\n      \"column\": \"Danceability\",\n      \"properties\": {\n        \"dtype\": \"number\",\n        \"std\": 11,\n        \"min\": 29,\n        \"max\": 90,\n        \"num_unique_values\": 29,\n        \"samples\": [\n          90,\n          72,\n          50\n        ],\n        \"semantic_type\": \"\",\n        \"description\": \"\"\n      }\n    },\n    {\n      \"column\": \"Loudness..dB..\",\n      \"properties\": {\n        \"dtype\": \"number\",\n        \"std\": 2,\n        \"min\": -11,\n        \"max\": -2,\n        \"num_unique_values\": 9,\n        \"samples\": [\n          -3,\n          -4,\n          -2\n        ],\n        \"semantic_type\": \"\",\n        \"description\": \"\"\n      }\n    },\n    {\n      \"column\": \"Liveness\",\n      \"properties\": {\n        \"dtype\": \"number\",\n        \"std\": 11,\n        \"min\": 5,\n        \"max\": 58,\n        \"num_unique_values\": 22,\n        \"samples\": [\n          8,\n          18,\n          6\n        ],\n        \"semantic_type\": \"\",\n        \"description\": \"\"\n      }\n    },\n    {\n      \"column\": \"Valence.\",\n      \"properties\": {\n        \"dtype\": \"number\",\n        \"std\": 22,\n        \"min\": 10,\n        \"max\": 95,\n        \"num_unique_values\": 39,\n        \"samples\": [\n          32,\n          73,\n          18\n        ],\n        \"semantic_type\": \"\",\n        \"description\": \"\"\n      }\n    },\n    {\n      \"column\": \"Length.\",\n      \"properties\": {\n        \"dtype\": \"number\",\n        \"std\": 39,\n        \"min\": 115,\n        \"max\": 309,\n        \"num_unique_values\": 44,\n        \"samples\": [\n          199,\n          195,\n          210\n        ],\n        \"semantic_type\": \"\",\n        \"description\": \"\"\n      }\n    },\n    {\n      \"column\": \"Acousticness..\",\n      \"properties\": {\n        \"dtype\": \"number\",\n        \"std\": 18,\n        \"min\": 1,\n        \"max\": 75,\n        \"num_unique_values\": 35,\n        \"samples\": [\n          22,\n          10,\n          3\n        ],\n        \"semantic_type\": \"\",\n        \"description\": \"\"\n      }\n    },\n    {\n      \"column\": \"Speechiness.\",\n      \"properties\": {\n        \"dtype\": \"number\",\n        \"std\": 11,\n        \"min\": 3,\n        \"max\": 46,\n        \"num_unique_values\": 24,\n        \"samples\": [\n          38,\n          30,\n          3\n        ],\n        \"semantic_type\": \"\",\n        \"description\": \"\"\n      }\n    },\n    {\n      \"column\": \"Popularity\",\n      \"properties\": {\n        \"dtype\": \"number\",\n        \"std\": 4,\n        \"min\": 70,\n        \"max\": 95,\n        \"num_unique_values\": 18,\n        \"samples\": [\n          79,\n          92,\n          95\n        ],\n        \"semantic_type\": \"\",\n        \"description\": \"\"\n      }\n    }\n  ]\n}"
            }
          },
          "metadata": {},
          "execution_count": 53
        }
      ]
    },
    {
      "cell_type": "code",
      "source": [
        "# Limpieza de los nombres de las columnas\n",
        "df.columns = df.columns.str.strip().str.replace('\\t', '', regex=True)\n",
        "df = df.dropna()  # Eliminación filas con valores nulos"
      ],
      "metadata": {
        "id": "8d86-LtbonL7"
      },
      "execution_count": null,
      "outputs": []
    },
    {
      "cell_type": "code",
      "source": [
        "print(\"Nombres de todas las columnas:\")\n",
        "print(df.columns.tolist())"
      ],
      "metadata": {
        "colab": {
          "base_uri": "https://localhost:8080/"
        },
        "id": "pcgvAFd5pnrI",
        "outputId": "fb3e6b3d-4d8b-4753-e4cf-0398ab073c05"
      },
      "execution_count": null,
      "outputs": [
        {
          "output_type": "stream",
          "name": "stdout",
          "text": [
            "Nombres de todas las columnas:\n",
            "['Unnamed: 0', 'Track.Name', 'Artist.Name', 'Genre', 'Beats.Per.Minute', 'Energy', 'Danceability', 'Loudness..dB..', 'Liveness', 'Valence.', 'Length.', 'Acousticness..', 'Speechiness.', 'Popularity']\n"
          ]
        }
      ]
    },
    {
      "cell_type": "code",
      "source": [
        "# Selección de columnas que se quieren usar\n",
        "df_selected = df[['Track.Name', 'Genre', 'Beats.Per.Minute', 'Danceability']]\n",
        "print(\"\\nPrimeras filas del Top 50 de Spotify:\")\n",
        "print(df_selected.head())"
      ],
      "metadata": {
        "colab": {
          "base_uri": "https://localhost:8080/"
        },
        "id": "gR_czoCUouCN",
        "outputId": "af93d4d0-c927-47be-c3a2-d2eb7f13eda8"
      },
      "execution_count": null,
      "outputs": [
        {
          "output_type": "stream",
          "name": "stdout",
          "text": [
            "\n",
            "Primeras filas del Top 50 de Spotify:\n",
            "                        Track.Name           Genre  Beats.Per.Minute  \\\n",
            "0                         Señorita    canadian pop               117   \n",
            "1                            China  reggaeton flow               105   \n",
            "2    boyfriend (with Social House)       dance pop               190   \n",
            "3  Beautiful People (feat. Khalid)             pop                93   \n",
            "4      Goodbyes (Feat. Young Thug)         dfw rap               150   \n",
            "\n",
            "   Danceability  \n",
            "0            76  \n",
            "1            79  \n",
            "2            40  \n",
            "3            64  \n",
            "4            58  \n"
          ]
        }
      ]
    },
    {
      "cell_type": "code",
      "source": [
        "# Conteo de la columna Géneros\n",
        "genre_counts = df_selected['Genre'].value_counts()\n",
        "print(\"\\nConteo de géneros:\")\n",
        "print(genre_counts)"
      ],
      "metadata": {
        "colab": {
          "base_uri": "https://localhost:8080/"
        },
        "id": "i6obS9F8u9ge",
        "outputId": "e719ef62-7a03-4744-fa94-3b8dd09c4a30"
      },
      "execution_count": null,
      "outputs": [
        {
          "output_type": "stream",
          "name": "stdout",
          "text": [
            "\n",
            "Conteo de géneros:\n",
            "Genre\n",
            "dance pop           8\n",
            "pop                 7\n",
            "latin               5\n",
            "canadian hip hop    3\n",
            "edm                 3\n",
            "reggaeton           2\n",
            "reggaeton flow      2\n",
            "panamanian pop      2\n",
            "canadian pop        2\n",
            "electropop          2\n",
            "country rap         2\n",
            "dfw rap             2\n",
            "brostep             2\n",
            "trap music          1\n",
            "escape room         1\n",
            "pop house           1\n",
            "australian pop      1\n",
            "atl hip hop         1\n",
            "big room            1\n",
            "boy band            1\n",
            "r&b en espanol      1\n",
            "Name: count, dtype: int64\n"
          ]
        }
      ]
    },
    {
      "cell_type": "code",
      "source": [
        "# Probabilidad de la columna Géneros\n",
        "total_genre_count = genre_counts.sum()\n",
        "genre_probabilities = genre_counts / total_genre_count\n",
        "print(\"\\nProbabilidades de cada género:\")\n",
        "print(genre_probabilities)"
      ],
      "metadata": {
        "colab": {
          "base_uri": "https://localhost:8080/"
        },
        "id": "5VvjVR-VvBLd",
        "outputId": "f8ae6770-79d7-4dc5-95b6-135cfd204069"
      },
      "execution_count": null,
      "outputs": [
        {
          "output_type": "stream",
          "name": "stdout",
          "text": [
            "\n",
            "Probabilidades de cada género:\n",
            "Genre\n",
            "dance pop           0.16\n",
            "pop                 0.14\n",
            "latin               0.10\n",
            "canadian hip hop    0.06\n",
            "edm                 0.06\n",
            "reggaeton           0.04\n",
            "reggaeton flow      0.04\n",
            "panamanian pop      0.04\n",
            "canadian pop        0.04\n",
            "electropop          0.04\n",
            "country rap         0.04\n",
            "dfw rap             0.04\n",
            "brostep             0.04\n",
            "trap music          0.02\n",
            "escape room         0.02\n",
            "pop house           0.02\n",
            "australian pop      0.02\n",
            "atl hip hop         0.02\n",
            "big room            0.02\n",
            "boy band            0.02\n",
            "r&b en espanol      0.02\n",
            "Name: count, dtype: float64\n"
          ]
        }
      ]
    },
    {
      "cell_type": "code",
      "source": [
        "# Conteo de la columna Bailabilidad\n",
        "danceability_counts = df_selected['Danceability'].value_counts()\n",
        "print(\"\\nConteo de bailabilidad:\")\n",
        "print(danceability_counts)\n"
      ],
      "metadata": {
        "colab": {
          "base_uri": "https://localhost:8080/"
        },
        "id": "GKN0xnbdtk6w",
        "outputId": "113f21f5-c882-4a2d-85a8-adeae959a1c8"
      },
      "execution_count": null,
      "outputs": [
        {
          "output_type": "stream",
          "name": "stdout",
          "text": [
            "\n",
            "Conteo de bailabilidad:\n",
            "Danceability\n",
            "75    4\n",
            "80    3\n",
            "70    3\n",
            "69    3\n",
            "76    2\n",
            "82    2\n",
            "81    2\n",
            "72    2\n",
            "84    2\n",
            "73    2\n",
            "78    2\n",
            "77    2\n",
            "88    2\n",
            "66    2\n",
            "64    2\n",
            "67    2\n",
            "29    1\n",
            "57    1\n",
            "74    1\n",
            "90    1\n",
            "83    1\n",
            "68    1\n",
            "79    1\n",
            "50    1\n",
            "61    1\n",
            "48    1\n",
            "58    1\n",
            "40    1\n",
            "59    1\n",
            "Name: count, dtype: int64\n"
          ]
        }
      ]
    },
    {
      "cell_type": "code",
      "source": [
        "# Probabilidad  de la columna Bailabilidad\n",
        "total_danceability_count = danceability_counts.sum()\n",
        "danceability_probabilities = danceability_counts / total_danceability_count\n",
        "print(\"\\nProbabilidades de cada nivel de bailabilidad:\")\n",
        "print(danceability_probabilities)"
      ],
      "metadata": {
        "colab": {
          "base_uri": "https://localhost:8080/"
        },
        "id": "oWrtZ9QdvK4B",
        "outputId": "64e36a29-9213-4ea8-bebc-46c194e55a17"
      },
      "execution_count": null,
      "outputs": [
        {
          "output_type": "stream",
          "name": "stdout",
          "text": [
            "\n",
            "Probabilidades de cada nivel de bailabilidad:\n",
            "Danceability\n",
            "75    0.08\n",
            "80    0.06\n",
            "70    0.06\n",
            "69    0.06\n",
            "76    0.04\n",
            "82    0.04\n",
            "81    0.04\n",
            "72    0.04\n",
            "84    0.04\n",
            "73    0.04\n",
            "78    0.04\n",
            "77    0.04\n",
            "88    0.04\n",
            "66    0.04\n",
            "64    0.04\n",
            "67    0.04\n",
            "29    0.02\n",
            "57    0.02\n",
            "74    0.02\n",
            "90    0.02\n",
            "83    0.02\n",
            "68    0.02\n",
            "79    0.02\n",
            "50    0.02\n",
            "61    0.02\n",
            "48    0.02\n",
            "58    0.02\n",
            "40    0.02\n",
            "59    0.02\n",
            "Name: count, dtype: float64\n"
          ]
        }
      ]
    },
    {
      "cell_type": "code",
      "source": [
        "# Conteo de la columna Beats por Minuto\n",
        "bpm_counts = df_selected['Beats.Per.Minute'].value_counts()\n",
        "print(\"\\nConteo de Beats Por Minuto:\")\n",
        "print(bpm_counts)\n"
      ],
      "metadata": {
        "colab": {
          "base_uri": "https://localhost:8080/"
        },
        "id": "CvVpeOLjvN8b",
        "outputId": "759c6fb4-9ef4-4b63-d572-ef2350af865f"
      },
      "execution_count": null,
      "outputs": [
        {
          "output_type": "stream",
          "name": "stdout",
          "text": [
            "\n",
            "Conteo de Beats Por Minuto:\n",
            "Beats.Per.Minute\n",
            "176    5\n",
            "96     4\n",
            "98     3\n",
            "93     3\n",
            "135    2\n",
            "92     2\n",
            "85     2\n",
            "100    2\n",
            "124    2\n",
            "136    2\n",
            "95     2\n",
            "104    2\n",
            "114    1\n",
            "152    1\n",
            "138    1\n",
            "140    1\n",
            "94     1\n",
            "117    1\n",
            "130    1\n",
            "154    1\n",
            "158    1\n",
            "105    1\n",
            "90     1\n",
            "101    1\n",
            "110    1\n",
            "111    1\n",
            "180    1\n",
            "102    1\n",
            "150    1\n",
            "190    1\n",
            "88     1\n",
            "Name: count, dtype: int64\n"
          ]
        }
      ]
    },
    {
      "cell_type": "code",
      "source": [
        "# Probabilidad de Beats Por Minuto\n",
        "total_bpm_count = bpm_counts.sum()\n",
        "bpm_probabilities = bpm_counts / total_bpm_count\n",
        "print(\"\\nProbabilidades de cada Beats Por Minuto:\")\n",
        "print(bpm_probabilities)"
      ],
      "metadata": {
        "colab": {
          "base_uri": "https://localhost:8080/"
        },
        "id": "q7KrjDGFvU8G",
        "outputId": "cac43451-6739-4122-ed3b-ddb27bdd1d09"
      },
      "execution_count": null,
      "outputs": [
        {
          "output_type": "stream",
          "name": "stdout",
          "text": [
            "\n",
            "Probabilidades de cada BPM:\n",
            "Beats.Per.Minute\n",
            "176    0.10\n",
            "96     0.08\n",
            "98     0.06\n",
            "93     0.06\n",
            "135    0.04\n",
            "92     0.04\n",
            "85     0.04\n",
            "100    0.04\n",
            "124    0.04\n",
            "136    0.04\n",
            "95     0.04\n",
            "104    0.04\n",
            "114    0.02\n",
            "152    0.02\n",
            "138    0.02\n",
            "140    0.02\n",
            "94     0.02\n",
            "117    0.02\n",
            "130    0.02\n",
            "154    0.02\n",
            "158    0.02\n",
            "105    0.02\n",
            "90     0.02\n",
            "101    0.02\n",
            "110    0.02\n",
            "111    0.02\n",
            "180    0.02\n",
            "102    0.02\n",
            "150    0.02\n",
            "190    0.02\n",
            "88     0.02\n",
            "Name: count, dtype: float64\n"
          ]
        }
      ]
    },
    {
      "cell_type": "code",
      "source": [
        "entropy_genre = -np.sum(genre_probabilities * np.log2(genre_probabilities + 1e-10))\n",
        "print(\"\\nEntropía del sistema (géneros):\")\n",
        "print(entropy_genre)\n"
      ],
      "metadata": {
        "colab": {
          "base_uri": "https://localhost:8080/"
        },
        "id": "BjYwhMhlw9wV",
        "outputId": "32b7235f-cd25-489e-8fe7-33ee8c450357"
      },
      "execution_count": null,
      "outputs": [
        {
          "output_type": "stream",
          "name": "stdout",
          "text": [
            "\n",
            "Entropía del sistema (géneros):\n",
            "4.028438188081726\n"
          ]
        }
      ]
    },
    {
      "cell_type": "code",
      "source": [
        "entropy_danceability = -np.sum(danceability_probabilities * np.log2(danceability_probabilities + 1e-10))\n",
        "print(\"\\nEntropía del sistema (bailabilidad):\")\n",
        "print(entropy_danceability)"
      ],
      "metadata": {
        "colab": {
          "base_uri": "https://localhost:8080/"
        },
        "id": "wUSs-8j4ycls",
        "outputId": "04167bfc-cf87-4438-f354-1ce7c269639f"
      },
      "execution_count": null,
      "outputs": [
        {
          "output_type": "stream",
          "name": "stdout",
          "text": [
            "\n",
            "Entropía del sistema (bailabilidad):\n",
            "4.718562935461103\n"
          ]
        }
      ]
    },
    {
      "cell_type": "code",
      "source": [
        "entropy_bpm = -np.sum(bpm_probabilities * np.log2(bpm_probabilities + 1e-10))\n",
        "print(\"\\nEntropía del sistema (Beats Por Minuto):\")\n",
        "print(entropy_bpm)"
      ],
      "metadata": {
        "colab": {
          "base_uri": "https://localhost:8080/"
        },
        "id": "rB46QmQAyimC",
        "outputId": "59afdedb-ad31-4abe-8dfe-307030a5ac06"
      },
      "execution_count": null,
      "outputs": [
        {
          "output_type": "stream",
          "name": "stdout",
          "text": [
            "\n",
            "Entropía del sistema (Beats Por Minuto):\n",
            "4.741467875727098\n"
          ]
        }
      ]
    }
  ]
}